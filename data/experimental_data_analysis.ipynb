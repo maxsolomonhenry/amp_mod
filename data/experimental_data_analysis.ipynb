{
 "cells": [
  {
   "cell_type": "code",
   "execution_count": 1,
   "metadata": {},
   "outputs": [],
   "source": [
    "from glob import glob\n",
    "import numpy as np\n",
    "import pandas as pd\n",
    "import matplotlib.pyplot as plt"
   ]
  },
  {
   "cell_type": "markdown",
   "metadata": {},
   "source": [
    "### Perception of amplitude modulation-induced vibrato\n",
    "\n",
    "Data analysis and exploration. Helper functions follow. Skip to next cell to see results."
   ]
  },
  {
   "cell_type": "code",
   "execution_count": 8,
   "metadata": {},
   "outputs": [],
   "source": [
    "# Globals.\n",
    "MAX_INTEGER = 2**53 - 1\n",
    "\n",
    "# Helpers.\n",
    "def normalize_slider(df):\n",
    "    already_normalized = (df[['response', 'slider_start']] <= 1).all().all()\n",
    "    if not already_normalized:\n",
    "        df[['response', 'slider_start']] = df[['response', 'slider_start']] / MAX_INTEGER\n",
    "    return df\n",
    "\n",
    "def extract_condition(df):\n",
    "    if 'condition' not in df:\n",
    "        def process(x):\n",
    "            return \"_\".join(x[-1].split('_')[:-1])\n",
    "        df['condition'] = df['stimulus'].str.split('/').apply(process)\n",
    "    return df\n",
    "\n",
    "def extract_trials(df):\n",
    "    df = df[df['trial_type'] == 'audio-slider-response']\n",
    "    df = df[~df['stimulus'].str.contains(\"train\")]\n",
    "    return df\n",
    "\n",
    "def extract_subject(df):\n",
    "    if 'subjectNo' not in df:\n",
    "        df['subjectNo'] = df['stimulus'].str.split(\"/\").apply(lambda x: x[1].split(\"_\")[1])\n",
    "    return df\n",
    "\n",
    "def isolate_study(df, study_type):\n",
    "    assert not df[df['studyType'] == study_type].empty, 'Returns no trials. Already filtered?'\n",
    "    return df[df['studyType'] == study_type]\n",
    "\n",
    "def get_summary(df):\n",
    "    tmp1 = df[['condition', 'response']].groupby('condition').mean()\n",
    "    tmp2 = df[['condition', 'response']].groupby('condition').std()\n",
    "\n",
    "    tmp3 = pd.DataFrame()\n",
    "    tmp3['mean'] = tmp1['response']\n",
    "    tmp3['std'] = tmp2['response']\n",
    "    return tmp3\n",
    "\n",
    "def load(pattern='./prolific/*.csv'):\n",
    "    files = glob(pattern)\n",
    "    assert files, 'No csv data found.'\n",
    "\n",
    "    df = pd.DataFrame()\n",
    "\n",
    "    for file in files:\n",
    "        df = df.append(pd.read_csv(file))\n",
    "        \n",
    "    return df\n",
    "\n",
    "    \n",
    "def macro(study_type):\n",
    "    df = load()\n",
    "\n",
    "    df = isolate_study(df, study_type)\n",
    "    df = extract_trials(df)\n",
    "    df = normalize_slider(df)\n",
    "    df = extract_subject(df)\n",
    "    df = extract_condition(df)\n",
    "    df = df.reset_index(drop=True)\n",
    "\n",
    "    df = get_summary(df)\n",
    "    return df\n",
    "\n",
    "def filter_by_control(df, threshold=0.6):\n",
    "    \"\"\"Find subjectNo where the CONTROL condition was rated below threshold.\"\"\"\n",
    "    tmp1 = df[df['condition'] == 'CONTROL'].groupby(['subjectNo'])['response'].min() > threshold\n",
    "    tmp2 = tmp1[tmp1]\n",
    "    print(f\"N = {len(tmp2)}\")\n",
    "    return df[df['subjectNo'].isin(tmp2.keys())]\n",
    "\n",
    "def filter_by_basic(df, threshold=0.6):\n",
    "    \"\"\"Find subjectNo where the BASIC condition was rated below threshold.\"\"\"\n",
    "    tmp1 = df[df['condition'] == 'BASIC'].groupby(['subjectNo'])['response'].min() > threshold\n",
    "    tmp2 = tmp1[tmp1]\n",
    "    print(f\"N = {len(tmp2)}\")\n",
    "    return df[df['subjectNo'].isin(tmp2.keys())]\n",
    "\n",
    "def response_histograms(df,bins=25):\n",
    "    for i, group in enumerate(df.groupby('condition')['response']):\n",
    "        plt.subplot(1, 2, (i % 2) + 1)\n",
    "        plt.title(group[0])\n",
    "        plt.hist(group[1], bins=bins)\n",
    "        if (i % 2 == 1):\n",
    "            plt.show()\n",
    "            \n",
    "def min_max_norm(df):\n",
    "    min_ = df.groupby('subjectNo')['response'].transform('min')\n",
    "    max_ = df.groupby('subjectNo')['response'].transform('max')\n",
    "    df['response'] = (df['response'] - min_)/(max_ - min_)\n",
    "    return df"
   ]
  },
  {
   "cell_type": "markdown",
   "metadata": {},
   "source": [
    "### Study 1: Perceived fusion.\n",
    "\n",
    "**Note**: \n",
    "Results are min-max normalized per subject."
   ]
  },
  {
   "cell_type": "code",
   "execution_count": 10,
   "metadata": {
    "scrolled": false
   },
   "outputs": [
    {
     "data": {
      "text/html": [
       "<div>\n",
       "<style scoped>\n",
       "    .dataframe tbody tr th:only-of-type {\n",
       "        vertical-align: middle;\n",
       "    }\n",
       "\n",
       "    .dataframe tbody tr th {\n",
       "        vertical-align: top;\n",
       "    }\n",
       "\n",
       "    .dataframe thead th {\n",
       "        text-align: right;\n",
       "    }\n",
       "</style>\n",
       "<table border=\"1\" class=\"dataframe\">\n",
       "  <thead>\n",
       "    <tr style=\"text-align: right;\">\n",
       "      <th></th>\n",
       "      <th>mean</th>\n",
       "      <th>std</th>\n",
       "    </tr>\n",
       "    <tr>\n",
       "      <th>condition</th>\n",
       "      <th></th>\n",
       "      <th></th>\n",
       "    </tr>\n",
       "  </thead>\n",
       "  <tbody>\n",
       "    <tr>\n",
       "      <th>BASIC</th>\n",
       "      <td>0.283868</td>\n",
       "      <td>0.230920</td>\n",
       "    </tr>\n",
       "    <tr>\n",
       "      <th>CONTROL</th>\n",
       "      <td>0.823842</td>\n",
       "      <td>0.214081</td>\n",
       "    </tr>\n",
       "    <tr>\n",
       "      <th>FM_ONLY</th>\n",
       "      <td>0.648839</td>\n",
       "      <td>0.306427</td>\n",
       "    </tr>\n",
       "    <tr>\n",
       "      <th>FROZEN</th>\n",
       "      <td>0.290445</td>\n",
       "      <td>0.217384</td>\n",
       "    </tr>\n",
       "    <tr>\n",
       "      <th>PAM</th>\n",
       "      <td>0.800855</td>\n",
       "      <td>0.229898</td>\n",
       "    </tr>\n",
       "    <tr>\n",
       "      <th>RAG</th>\n",
       "      <td>0.351403</td>\n",
       "      <td>0.235336</td>\n",
       "    </tr>\n",
       "    <tr>\n",
       "      <th>RAG_RAF</th>\n",
       "      <td>0.339307</td>\n",
       "      <td>0.241908</td>\n",
       "    </tr>\n",
       "    <tr>\n",
       "      <th>SHUFFLE</th>\n",
       "      <td>0.373763</td>\n",
       "      <td>0.239056</td>\n",
       "    </tr>\n",
       "    <tr>\n",
       "      <th>SHUFFLE_RAF</th>\n",
       "      <td>0.332031</td>\n",
       "      <td>0.243205</td>\n",
       "    </tr>\n",
       "    <tr>\n",
       "      <th>SIMPLE</th>\n",
       "      <td>0.295265</td>\n",
       "      <td>0.215382</td>\n",
       "    </tr>\n",
       "    <tr>\n",
       "      <th>SIMPLE_RAF</th>\n",
       "      <td>0.297074</td>\n",
       "      <td>0.226138</td>\n",
       "    </tr>\n",
       "  </tbody>\n",
       "</table>\n",
       "</div>"
      ],
      "text/plain": [
       "                 mean       std\n",
       "condition                      \n",
       "BASIC        0.283868  0.230920\n",
       "CONTROL      0.823842  0.214081\n",
       "FM_ONLY      0.648839  0.306427\n",
       "FROZEN       0.290445  0.217384\n",
       "PAM          0.800855  0.229898\n",
       "RAG          0.351403  0.235336\n",
       "RAG_RAF      0.339307  0.241908\n",
       "SHUFFLE      0.373763  0.239056\n",
       "SHUFFLE_RAF  0.332031  0.243205\n",
       "SIMPLE       0.295265  0.215382\n",
       "SIMPLE_RAF   0.297074  0.226138"
      ]
     },
     "metadata": {},
     "output_type": "display_data"
    },
    {
     "data": {
      "image/png": "[encoded data removed]",
      "text/plain": [
       "<Figure size 432x288 with 2 Axes>"
      ]
     },
     "metadata": {
      "needs_background": "light"
     },
     "output_type": "display_data"
    },
    {
     "data": {
      "image/png": "[encoded data removed]",
      "text/plain": [
       "<Figure size 432x288 with 2 Axes>"
      ]
     },
     "metadata": {
      "needs_background": "light"
     },
     "output_type": "display_data"
    },
    {
     "data": {
      "image/png": "[encoded data removed]",
      "text/plain": [
       "<Figure size 432x288 with 2 Axes>"
      ]
     },
     "metadata": {
      "needs_background": "light"
     },
     "output_type": "display_data"
    },
    {
     "data": {
      "image/png": "[encoded data removed]",
      "text/plain": [
       "<Figure size 432x288 with 2 Axes>"
      ]
     },
     "metadata": {
      "needs_background": "light"
     },
     "output_type": "display_data"
    },
    {
     "data": {
      "image/png": "[encoded data removed]",
      "text/plain": [
       "<Figure size 432x288 with 2 Axes>"
      ]
     },
     "metadata": {
      "needs_background": "light"
     },
     "output_type": "display_data"
    },
    {
     "data": {
      "image/png": "[encoded data removed]",
      "text/plain": [
       "<Figure size 432x288 with 1 Axes>"
      ]
     },
     "metadata": {
      "needs_background": "light"
     },
     "output_type": "display_data"
    }
   ],
   "source": [
    "study_type = 0\n",
    "df = load('./prolific/*.csv')\n",
    "df = isolate_study(df, study_type)\n",
    "df = extract_trials(df)\n",
    "df = normalize_slider(df)\n",
    "df = extract_subject(df)\n",
    "df = extract_condition(df)\n",
    "df = min_max_norm(df)\n",
    "df = df.reset_index(drop=True)\n",
    "\n",
    "display(get_summary(df))\n",
    "response_histograms(df, 20)"
   ]
  },
  {
   "cell_type": "markdown",
   "metadata": {},
   "source": [
    "### Study 1\n",
    "\n",
    "Perceived realism.\n",
    "\n",
    "**Note**:\n",
    "Ratings are min-max normalized per subject."
   ]
  },
  {
   "cell_type": "code",
   "execution_count": 12,
   "metadata": {
    "scrolled": false
   },
   "outputs": [
    {
     "data": {
      "text/html": [
       "<div>\n",
       "<style scoped>\n",
       "    .dataframe tbody tr th:only-of-type {\n",
       "        vertical-align: middle;\n",
       "    }\n",
       "\n",
       "    .dataframe tbody tr th {\n",
       "        vertical-align: top;\n",
       "    }\n",
       "\n",
       "    .dataframe thead th {\n",
       "        text-align: right;\n",
       "    }\n",
       "</style>\n",
       "<table border=\"1\" class=\"dataframe\">\n",
       "  <thead>\n",
       "    <tr style=\"text-align: right;\">\n",
       "      <th></th>\n",
       "      <th>mean</th>\n",
       "      <th>std</th>\n",
       "    </tr>\n",
       "    <tr>\n",
       "      <th>condition</th>\n",
       "      <th></th>\n",
       "      <th></th>\n",
       "    </tr>\n",
       "  </thead>\n",
       "  <tbody>\n",
       "    <tr>\n",
       "      <th>BASIC</th>\n",
       "      <td>0.635573</td>\n",
       "      <td>0.280864</td>\n",
       "    </tr>\n",
       "    <tr>\n",
       "      <th>CONTROL</th>\n",
       "      <td>0.383148</td>\n",
       "      <td>0.319881</td>\n",
       "    </tr>\n",
       "    <tr>\n",
       "      <th>FM_ONLY</th>\n",
       "      <td>0.495426</td>\n",
       "      <td>0.313030</td>\n",
       "    </tr>\n",
       "    <tr>\n",
       "      <th>FROZEN</th>\n",
       "      <td>0.594353</td>\n",
       "      <td>0.265677</td>\n",
       "    </tr>\n",
       "    <tr>\n",
       "      <th>PAM</th>\n",
       "      <td>0.380236</td>\n",
       "      <td>0.313012</td>\n",
       "    </tr>\n",
       "    <tr>\n",
       "      <th>RAG</th>\n",
       "      <td>0.571733</td>\n",
       "      <td>0.258197</td>\n",
       "    </tr>\n",
       "    <tr>\n",
       "      <th>RAG_RAF</th>\n",
       "      <td>0.513825</td>\n",
       "      <td>0.273695</td>\n",
       "    </tr>\n",
       "    <tr>\n",
       "      <th>SHUFFLE</th>\n",
       "      <td>0.554518</td>\n",
       "      <td>0.264120</td>\n",
       "    </tr>\n",
       "    <tr>\n",
       "      <th>SHUFFLE_RAF</th>\n",
       "      <td>0.461906</td>\n",
       "      <td>0.281960</td>\n",
       "    </tr>\n",
       "    <tr>\n",
       "      <th>SIMPLE</th>\n",
       "      <td>0.594218</td>\n",
       "      <td>0.273936</td>\n",
       "    </tr>\n",
       "    <tr>\n",
       "      <th>SIMPLE_RAF</th>\n",
       "      <td>0.559741</td>\n",
       "      <td>0.263342</td>\n",
       "    </tr>\n",
       "  </tbody>\n",
       "</table>\n",
       "</div>"
      ],
      "text/plain": [
       "                 mean       std\n",
       "condition                      \n",
       "BASIC        0.635573  0.280864\n",
       "CONTROL      0.383148  0.319881\n",
       "FM_ONLY      0.495426  0.313030\n",
       "FROZEN       0.594353  0.265677\n",
       "PAM          0.380236  0.313012\n",
       "RAG          0.571733  0.258197\n",
       "RAG_RAF      0.513825  0.273695\n",
       "SHUFFLE      0.554518  0.264120\n",
       "SHUFFLE_RAF  0.461906  0.281960\n",
       "SIMPLE       0.594218  0.273936\n",
       "SIMPLE_RAF   0.559741  0.263342"
      ]
     },
     "metadata": {},
     "output_type": "display_data"
    },
    {
     "data": {
      "image/png": "[encoded data removed]",
      "text/plain": [
       "<Figure size 432x288 with 2 Axes>"
      ]
     },
     "metadata": {
      "needs_background": "light"
     },
     "output_type": "display_data"
    },
    {
     "data": {
      "image/png": "[encoded data removed]",
      "text/plain": [
       "<Figure size 432x288 with 2 Axes>"
      ]
     },
     "metadata": {
      "needs_background": "light"
     },
     "output_type": "display_data"
    },
    {
     "data": {
      "image/png": "[encoded data removed]",
      "text/plain": [
       "<Figure size 432x288 with 2 Axes>"
      ]
     },
     "metadata": {
      "needs_background": "light"
     },
     "output_type": "display_data"
    },
    {
     "data": {
      "image/png": "[encoded data removed]",
      "text/plain": [
       "<Figure size 432x288 with 2 Axes>"
      ]
     },
     "metadata": {
      "needs_background": "light"
     },
     "output_type": "display_data"
    },
    {
     "data": {
      "image/png": "[encoded data removed]",
      "text/plain": [
       "<Figure size 432x288 with 2 Axes>"
      ]
     },
     "metadata": {
      "needs_background": "light"
     },
     "output_type": "display_data"
    },
    {
     "data": {
      "image/png": "[encoded data removed]",
      "text/plain": [
       "<Figure size 432x288 with 1 Axes>"
      ]
     },
     "metadata": {
      "needs_background": "light"
     },
     "output_type": "display_data"
    }
   ],
   "source": [
    "study_type = 1\n",
    "df = load('./prolific/*.csv')\n",
    "df = isolate_study(df, study_type)\n",
    "df = extract_trials(df)\n",
    "df = normalize_slider(df)\n",
    "df = extract_subject(df)\n",
    "df = extract_condition(df)\n",
    "df = min_max_norm(df)\n",
    "df = df.reset_index(drop=True)\n",
    "\n",
    "display(get_summary(df))\n",
    "response_histograms(df, 20)"
   ]
  },
  {
   "cell_type": "markdown",
   "metadata": {},
   "source": [
    "### Explorations"
   ]
  },
  {
   "cell_type": "code",
   "execution_count": null,
   "metadata": {},
   "outputs": [],
   "source": [
    "# Consistency within subject (ranking the same thing), then averaged accross.\n",
    "# I.e., effect of randomization."
   ]
  }
 ],
 "metadata": {
  "kernelspec": {
   "display_name": "Python 3",
   "language": "python",
   "name": "python3"
  },
  "language_info": {
   "codemirror_mode": {
    "name": "ipython",
    "version": 3
   },
   "file_extension": ".py",
   "mimetype": "text/x-python",
   "name": "python",
   "nbconvert_exporter": "python",
   "pygments_lexer": "ipython3",
   "version": "3.7.3"
  }
 },
 "nbformat": 4,
 "nbformat_minor": 4
}

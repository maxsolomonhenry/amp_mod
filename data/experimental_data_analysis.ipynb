{
 "cells": [
  {
   "cell_type": "code",
   "execution_count": 159,
   "metadata": {},
   "outputs": [],
   "source": [
    "import seaborn as sns\n",
    "import statsmodels.api as sm\n",
    "import pylab as py\n",
    "from scipy.stats import shapiro\n",
    "import pingouin as pg\n",
    "\n",
    "from glob import glob\n",
    "import numpy as np\n",
    "import pandas as pd\n",
    "import matplotlib.pyplot as plt"
   ]
  },
  {
   "cell_type": "markdown",
   "metadata": {},
   "source": [
    "### Perception of amplitude modulation-induced vibrato\n",
    "\n",
    "Data analysis and exploration. Helper functions follow. Skip to next cell to see results."
   ]
  },
  {
   "cell_type": "code",
   "execution_count": 260,
   "metadata": {},
   "outputs": [],
   "source": [
    "# Globals.\n",
    "MAX_INTEGER = 2**53 - 1\n",
    "dpi = 300\n",
    "\n",
    "# Helpers.\n",
    "def normalize_slider(df):\n",
    "    already_normalized = (df[['response', 'slider_start']] <= 1).all().all()\n",
    "    if not already_normalized:\n",
    "        df[['response', 'slider_start']] = df[['response', 'slider_start']] / MAX_INTEGER\n",
    "    return df\n",
    "\n",
    "def extract_condition(df):\n",
    "    if 'condition' not in df:\n",
    "        def process(x):\n",
    "            return \"_\".join(x[-1].split('_')[:-1])\n",
    "        df['condition'] = df['stimulus'].str.split('/').apply(process)\n",
    "    return df\n",
    "\n",
    "def extract_trials(df):\n",
    "    df = df[df['trial_type'] == 'audio-slider-response']\n",
    "    df = df[~df['stimulus'].str.contains(\"train\")]\n",
    "    return df\n",
    "\n",
    "def extract_subject(df):\n",
    "    if 'subjectNo' not in df:\n",
    "        df['subjectNo'] = df['stimulus'].str.split(\"/\").apply(lambda x: x[1].split(\"_\")[1])\n",
    "    return df\n",
    "\n",
    "def isolate_study(df, study_type):\n",
    "    assert not df[df['studyType'] == study_type].empty, 'Returns no trials. Already filtered?'\n",
    "    return df[df['studyType'] == study_type]\n",
    "\n",
    "def get_summary(df):\n",
    "    tmp1 = df[['condition', 'response']].groupby('condition').mean()\n",
    "    tmp2 = df[['condition', 'response']].groupby('condition').std()\n",
    "\n",
    "    tmp3 = pd.DataFrame()\n",
    "    tmp3['mean'] = tmp1['response']\n",
    "    tmp3['std'] = tmp2['response']\n",
    "    return tmp3\n",
    "\n",
    "def load(pattern='./prolific/*.csv'):\n",
    "    files = glob(pattern)\n",
    "    assert files, 'No csv data found.'\n",
    "\n",
    "    df = pd.DataFrame()\n",
    "\n",
    "    for file in files:\n",
    "        df = df.append(pd.read_csv(file))\n",
    "        \n",
    "    return df\n",
    "\n",
    "    \n",
    "def macro(study_type):\n",
    "    df = load()\n",
    "\n",
    "    df = isolate_study(df, study_type)\n",
    "    df = extract_trials(df)\n",
    "    df = normalize_slider(df)\n",
    "    df = extract_subject(df)\n",
    "    df = extract_condition(df)\n",
    "    df = df.reset_index(drop=True)\n",
    "\n",
    "    df = get_summary(df)\n",
    "    return df\n",
    "\n",
    "\n",
    "def filter_by_control(df, threshold=0.6):\n",
    "    \"\"\"Find subjectNo where the CONTROL condition was rated greater than threshold.\"\"\"\n",
    "    tmp1 = df[df['condition'] == 'CONTROL'].groupby(['subjectNo'])['response'].min() > threshold\n",
    "    tmp2 = tmp1[tmp1]\n",
    "    print(f\"N = {len(tmp2)}\")\n",
    "    return df[df['subjectNo'].isin(tmp2.keys())]\n",
    "\n",
    "\n",
    "def filter_by_basic(df, threshold=0.6):\n",
    "    \"\"\"Find subjectNo where the BASIC condition was rated below threshold.\"\"\"\n",
    "    tmp1 = df[df['condition'] == 'BASIC'].groupby(['subjectNo'])['response'].min() > threshold\n",
    "    tmp2 = tmp1[tmp1]\n",
    "    print(f\"N = {len(tmp2)}\")\n",
    "    return df[df['subjectNo'].isin(tmp2.keys())]\n",
    "\n",
    "\n",
    "def average_condition_rating_within_subject(df):\n",
    "    tmp = df.groupby(['subjectNo', 'condition'])['response'].mean()\n",
    "    return tmp.unstack()\n",
    "\n",
    "\n",
    "def response_histograms(df, bins=20):\n",
    "    # Get subject's average rating per condition.\n",
    "    tmp = average_condition_rating_within_subject(df)\n",
    "    for i, col in enumerate(tmp):\n",
    "        plt.subplot(1, 2, (i % 2) + 1)\n",
    "        plt.title(col)\n",
    "        plt.hist(tmp[col], bins=bins)\n",
    "        if (i % 2 == 1):\n",
    "            plt.show()\n",
    "\n",
    "            \n",
    "def box_plot(df, study_type, savefig=False, dpi=300):\n",
    "    tmp = df.groupby(['subjectNo', 'condition'])['response'].mean()\n",
    "    tmp = tmp.unstack()\n",
    "    tmp.columns = [s.replace('_', ' ') for s in tmp.columns]\n",
    "    plt.figure(figsize=(16, 6))\n",
    "    sns.boxplot(data=tmp)\n",
    "    plt.ylabel('rating')\n",
    "    plt.xlabel('condition')\n",
    "    if savefig:\n",
    "        plt.savefig(f\"figs/study_type_{study_type}_boxplot.png\", dpi=dpi)\n",
    "    else:\n",
    "        plt.show()\n",
    "\n",
    "\n",
    "def min_max_norm(df):\n",
    "    min_ = df.groupby('subjectNo')['response'].transform('min')\n",
    "    max_ = df.groupby('subjectNo')['response'].transform('max')\n",
    "    df['response'] = (df['response'] - min_)/(max_ - min_)\n",
    "    return df\n",
    "\n",
    "\n",
    "def anova_prep(df):\n",
    "    df = df.groupby(['subjectNo', 'condition'])['response'].mean()\n",
    "    df = df.unstack()\n",
    "    tmp = []\n",
    "    for subject in df.index:\n",
    "        for condition in df.loc[subject].keys():\n",
    "                tmp.append(\n",
    "                {\n",
    "                    'subjectNo': subject,\n",
    "                    'condition': condition,\n",
    "                    'rating': df.loc[subject, condition],\n",
    "                }\n",
    "            )            \n",
    "    return pd.DataFrame(tmp)\n",
    "\n",
    "def max_time_elapsed(df):\n",
    "    \"\"\"Returns the max time elapsed in minutes.\"\"\"\n",
    "    return df.groupby('subjectNo')['time_elapsed'].max()/1000/60\n",
    "\n",
    "def get_num_subjects(df):\n",
    "    return len(df['subjectNo'].unique())"
   ]
  },
  {
   "cell_type": "markdown",
   "metadata": {},
   "source": [
    "### Study 1: Perceived fusion.\n",
    "\n",
    "**Note**: \n",
    "Results are min-max normalized per subject."
   ]
  },
  {
   "cell_type": "code",
   "execution_count": 194,
   "metadata": {
    "scrolled": false
   },
   "outputs": [
    {
     "data": {
      "text/html": [
       "<div>\n",
       "<style scoped>\n",
       "    .dataframe tbody tr th:only-of-type {\n",
       "        vertical-align: middle;\n",
       "    }\n",
       "\n",
       "    .dataframe tbody tr th {\n",
       "        vertical-align: top;\n",
       "    }\n",
       "\n",
       "    .dataframe thead th {\n",
       "        text-align: right;\n",
       "    }\n",
       "</style>\n",
       "<table border=\"1\" class=\"dataframe\">\n",
       "  <thead>\n",
       "    <tr style=\"text-align: right;\">\n",
       "      <th></th>\n",
       "      <th>mean</th>\n",
       "      <th>std</th>\n",
       "    </tr>\n",
       "    <tr>\n",
       "      <th>condition</th>\n",
       "      <th></th>\n",
       "      <th></th>\n",
       "    </tr>\n",
       "  </thead>\n",
       "  <tbody>\n",
       "    <tr>\n",
       "      <th>BASIC</th>\n",
       "      <td>0.283868</td>\n",
       "      <td>0.230920</td>\n",
       "    </tr>\n",
       "    <tr>\n",
       "      <th>CONTROL</th>\n",
       "      <td>0.823842</td>\n",
       "      <td>0.214081</td>\n",
       "    </tr>\n",
       "    <tr>\n",
       "      <th>FM_ONLY</th>\n",
       "      <td>0.648839</td>\n",
       "      <td>0.306427</td>\n",
       "    </tr>\n",
       "    <tr>\n",
       "      <th>FROZEN</th>\n",
       "      <td>0.290445</td>\n",
       "      <td>0.217384</td>\n",
       "    </tr>\n",
       "    <tr>\n",
       "      <th>PAM</th>\n",
       "      <td>0.800855</td>\n",
       "      <td>0.229898</td>\n",
       "    </tr>\n",
       "    <tr>\n",
       "      <th>RAG</th>\n",
       "      <td>0.351403</td>\n",
       "      <td>0.235336</td>\n",
       "    </tr>\n",
       "    <tr>\n",
       "      <th>RAG_RAF</th>\n",
       "      <td>0.339307</td>\n",
       "      <td>0.241908</td>\n",
       "    </tr>\n",
       "    <tr>\n",
       "      <th>SHUFFLE</th>\n",
       "      <td>0.373763</td>\n",
       "      <td>0.239056</td>\n",
       "    </tr>\n",
       "    <tr>\n",
       "      <th>SHUFFLE_RAF</th>\n",
       "      <td>0.332031</td>\n",
       "      <td>0.243205</td>\n",
       "    </tr>\n",
       "    <tr>\n",
       "      <th>SIMPLE</th>\n",
       "      <td>0.295265</td>\n",
       "      <td>0.215382</td>\n",
       "    </tr>\n",
       "    <tr>\n",
       "      <th>SIMPLE_RAF</th>\n",
       "      <td>0.297074</td>\n",
       "      <td>0.226138</td>\n",
       "    </tr>\n",
       "  </tbody>\n",
       "</table>\n",
       "</div>"
      ],
      "text/plain": [
       "                 mean       std\n",
       "condition                      \n",
       "BASIC        0.283868  0.230920\n",
       "CONTROL      0.823842  0.214081\n",
       "FM_ONLY      0.648839  0.306427\n",
       "FROZEN       0.290445  0.217384\n",
       "PAM          0.800855  0.229898\n",
       "RAG          0.351403  0.235336\n",
       "RAG_RAF      0.339307  0.241908\n",
       "SHUFFLE      0.373763  0.239056\n",
       "SHUFFLE_RAF  0.332031  0.243205\n",
       "SIMPLE       0.295265  0.215382\n",
       "SIMPLE_RAF   0.297074  0.226138"
      ]
     },
     "metadata": {},
     "output_type": "display_data"
    },
    {
     "data": {
      "image/png": "[encoded data removed]",
      "text/plain": [
       "<Figure size 1152x432 with 2 Axes>"
      ]
     },
     "metadata": {
      "needs_background": "light"
     },
     "output_type": "display_data"
    },
    {
     "data": {
      "image/png": "[encoded data removed]",
      "text/plain": [
       "<Figure size 432x288 with 2 Axes>"
      ]
     },
     "metadata": {
      "needs_background": "light"
     },
     "output_type": "display_data"
    },
    {
     "data": {
      "image/png": "[encoded data removed]",
      "text/plain": [
       "<Figure size 432x288 with 2 Axes>"
      ]
     },
     "metadata": {
      "needs_background": "light"
     },
     "output_type": "display_data"
    },
    {
     "data": {
      "image/png": "[encoded data removed]",
      "text/plain": [
       "<Figure size 432x288 with 2 Axes>"
      ]
     },
     "metadata": {
      "needs_background": "light"
     },
     "output_type": "display_data"
    },
    {
     "data": {
      "image/png": "[encoded data removed]",
      "text/plain": [
       "<Figure size 432x288 with 2 Axes>"
      ]
     },
     "metadata": {
      "needs_background": "light"
     },
     "output_type": "display_data"
    },
    {
     "data": {
      "image/png": "[encoded data removed]",
      "text/plain": [
       "<Figure size 432x288 with 1 Axes>"
      ]
     },
     "metadata": {
      "needs_background": "light"
     },
     "output_type": "display_data"
    }
   ],
   "source": [
    "dpi = 300\n",
    "study_type = 0\n",
    "df = load('./prolific/*.csv')\n",
    "df = isolate_study(df, study_type)\n",
    "df = extract_trials(df)\n",
    "df = normalize_slider(df)\n",
    "df = extract_subject(df)\n",
    "df = extract_condition(df)\n",
    "df = min_max_norm(df)\n",
    "df = df.reset_index(drop=True)\n",
    "\n",
    "display(get_summary(df))\n",
    "box_plot(df, study_type, savefig=True, dpi=dpi)\n",
    "response_histograms(df, 10)"
   ]
  },
  {
   "cell_type": "markdown",
   "metadata": {},
   "source": [
    "### Study 1\n",
    "\n",
    "Perceived realism.\n",
    "\n",
    "**Note**:\n",
    "Ratings are min-max normalized per subject."
   ]
  },
  {
   "cell_type": "code",
   "execution_count": 195,
   "metadata": {
    "scrolled": false
   },
   "outputs": [
    {
     "data": {
      "text/html": [
       "<div>\n",
       "<style scoped>\n",
       "    .dataframe tbody tr th:only-of-type {\n",
       "        vertical-align: middle;\n",
       "    }\n",
       "\n",
       "    .dataframe tbody tr th {\n",
       "        vertical-align: top;\n",
       "    }\n",
       "\n",
       "    .dataframe thead th {\n",
       "        text-align: right;\n",
       "    }\n",
       "</style>\n",
       "<table border=\"1\" class=\"dataframe\">\n",
       "  <thead>\n",
       "    <tr style=\"text-align: right;\">\n",
       "      <th></th>\n",
       "      <th>mean</th>\n",
       "      <th>std</th>\n",
       "    </tr>\n",
       "    <tr>\n",
       "      <th>condition</th>\n",
       "      <th></th>\n",
       "      <th></th>\n",
       "    </tr>\n",
       "  </thead>\n",
       "  <tbody>\n",
       "    <tr>\n",
       "      <th>BASIC</th>\n",
       "      <td>0.635573</td>\n",
       "      <td>0.280864</td>\n",
       "    </tr>\n",
       "    <tr>\n",
       "      <th>CONTROL</th>\n",
       "      <td>0.383148</td>\n",
       "      <td>0.319881</td>\n",
       "    </tr>\n",
       "    <tr>\n",
       "      <th>FM_ONLY</th>\n",
       "      <td>0.495426</td>\n",
       "      <td>0.313030</td>\n",
       "    </tr>\n",
       "    <tr>\n",
       "      <th>FROZEN</th>\n",
       "      <td>0.594353</td>\n",
       "      <td>0.265677</td>\n",
       "    </tr>\n",
       "    <tr>\n",
       "      <th>PAM</th>\n",
       "      <td>0.380236</td>\n",
       "      <td>0.313012</td>\n",
       "    </tr>\n",
       "    <tr>\n",
       "      <th>RAG</th>\n",
       "      <td>0.571733</td>\n",
       "      <td>0.258197</td>\n",
       "    </tr>\n",
       "    <tr>\n",
       "      <th>RAG_RAF</th>\n",
       "      <td>0.513825</td>\n",
       "      <td>0.273695</td>\n",
       "    </tr>\n",
       "    <tr>\n",
       "      <th>SHUFFLE</th>\n",
       "      <td>0.554518</td>\n",
       "      <td>0.264120</td>\n",
       "    </tr>\n",
       "    <tr>\n",
       "      <th>SHUFFLE_RAF</th>\n",
       "      <td>0.461906</td>\n",
       "      <td>0.281960</td>\n",
       "    </tr>\n",
       "    <tr>\n",
       "      <th>SIMPLE</th>\n",
       "      <td>0.594218</td>\n",
       "      <td>0.273936</td>\n",
       "    </tr>\n",
       "    <tr>\n",
       "      <th>SIMPLE_RAF</th>\n",
       "      <td>0.559741</td>\n",
       "      <td>0.263342</td>\n",
       "    </tr>\n",
       "  </tbody>\n",
       "</table>\n",
       "</div>"
      ],
      "text/plain": [
       "                 mean       std\n",
       "condition                      \n",
       "BASIC        0.635573  0.280864\n",
       "CONTROL      0.383148  0.319881\n",
       "FM_ONLY      0.495426  0.313030\n",
       "FROZEN       0.594353  0.265677\n",
       "PAM          0.380236  0.313012\n",
       "RAG          0.571733  0.258197\n",
       "RAG_RAF      0.513825  0.273695\n",
       "SHUFFLE      0.554518  0.264120\n",
       "SHUFFLE_RAF  0.461906  0.281960\n",
       "SIMPLE       0.594218  0.273936\n",
       "SIMPLE_RAF   0.559741  0.263342"
      ]
     },
     "metadata": {},
     "output_type": "display_data"
    },
    {
     "data": {
      "image/png": "[encoded data removed]",
      "text/plain": [
       "<Figure size 1152x432 with 2 Axes>"
      ]
     },
     "metadata": {
      "needs_background": "light"
     },
     "output_type": "display_data"
    },
    {
     "data": {
      "image/png": "[encoded data removed]",
      "text/plain": [
       "<Figure size 432x288 with 2 Axes>"
      ]
     },
     "metadata": {
      "needs_background": "light"
     },
     "output_type": "display_data"
    },
    {
     "data": {
      "image/png": "[encoded data removed]",
      "text/plain": [
       "<Figure size 432x288 with 2 Axes>"
      ]
     },
     "metadata": {
      "needs_background": "light"
     },
     "output_type": "display_data"
    },
    {
     "data": {
      "image/png": "[encoded data removed]",
      "text/plain": [
       "<Figure size 432x288 with 2 Axes>"
      ]
     },
     "metadata": {
      "needs_background": "light"
     },
     "output_type": "display_data"
    },
    {
     "data": {
      "image/png": "[encoded data removed]",
      "text/plain": [
       "<Figure size 432x288 with 2 Axes>"
      ]
     },
     "metadata": {
      "needs_background": "light"
     },
     "output_type": "display_data"
    },
    {
     "data": {
      "image/png": "[encoded data removed]",
      "text/plain": [
       "<Figure size 432x288 with 1 Axes>"
      ]
     },
     "metadata": {
      "needs_background": "light"
     },
     "output_type": "display_data"
    }
   ],
   "source": [
    "study_type = 1\n",
    "df = load('./prolific/*.csv')\n",
    "df = isolate_study(df, study_type)\n",
    "df = extract_trials(df)\n",
    "df = normalize_slider(df)\n",
    "df = extract_subject(df)\n",
    "df = extract_condition(df)\n",
    "df = min_max_norm(df)\n",
    "df = df.reset_index(drop=True)\n",
    "\n",
    "display(get_summary(df))\n",
    "box_plot(df, study_type, savefig=True, dpi=dpi)\n",
    "response_histograms(df, 10)"
   ]
  },
  {
   "cell_type": "code",
   "execution_count": 181,
   "metadata": {
    "scrolled": false
   },
   "outputs": [
    {
     "name": "stdout",
     "output_type": "stream",
     "text": [
      "Condition: BASIC\n"
     ]
    },
    {
     "data": {
      "text/html": [
       "<div>\n",
       "<style scoped>\n",
       "    .dataframe tbody tr th:only-of-type {\n",
       "        vertical-align: middle;\n",
       "    }\n",
       "\n",
       "    .dataframe tbody tr th {\n",
       "        vertical-align: top;\n",
       "    }\n",
       "\n",
       "    .dataframe thead th {\n",
       "        text-align: right;\n",
       "    }\n",
       "</style>\n",
       "<table border=\"1\" class=\"dataframe\">\n",
       "  <thead>\n",
       "    <tr style=\"text-align: right;\">\n",
       "      <th></th>\n",
       "      <th>W</th>\n",
       "      <th>pval</th>\n",
       "      <th>normal</th>\n",
       "    </tr>\n",
       "  </thead>\n",
       "  <tbody>\n",
       "    <tr>\n",
       "      <th>rating</th>\n",
       "      <td>0.964394</td>\n",
       "      <td>0.169722</td>\n",
       "      <td>True</td>\n",
       "    </tr>\n",
       "  </tbody>\n",
       "</table>\n",
       "</div>"
      ],
      "text/plain": [
       "               W      pval  normal\n",
       "rating  0.964394  0.169722    True"
      ]
     },
     "metadata": {},
     "output_type": "display_data"
    },
    {
     "name": "stdout",
     "output_type": "stream",
     "text": [
      "Condition: CONTROL\n"
     ]
    },
    {
     "data": {
      "text/html": [
       "<div>\n",
       "<style scoped>\n",
       "    .dataframe tbody tr th:only-of-type {\n",
       "        vertical-align: middle;\n",
       "    }\n",
       "\n",
       "    .dataframe tbody tr th {\n",
       "        vertical-align: top;\n",
       "    }\n",
       "\n",
       "    .dataframe thead th {\n",
       "        text-align: right;\n",
       "    }\n",
       "</style>\n",
       "<table border=\"1\" class=\"dataframe\">\n",
       "  <thead>\n",
       "    <tr style=\"text-align: right;\">\n",
       "      <th></th>\n",
       "      <th>W</th>\n",
       "      <th>pval</th>\n",
       "      <th>normal</th>\n",
       "    </tr>\n",
       "  </thead>\n",
       "  <tbody>\n",
       "    <tr>\n",
       "      <th>rating</th>\n",
       "      <td>0.964787</td>\n",
       "      <td>0.175752</td>\n",
       "      <td>True</td>\n",
       "    </tr>\n",
       "  </tbody>\n",
       "</table>\n",
       "</div>"
      ],
      "text/plain": [
       "               W      pval  normal\n",
       "rating  0.964787  0.175752    True"
      ]
     },
     "metadata": {},
     "output_type": "display_data"
    },
    {
     "name": "stdout",
     "output_type": "stream",
     "text": [
      "Condition: FM_ONLY\n"
     ]
    },
    {
     "data": {
      "text/html": [
       "<div>\n",
       "<style scoped>\n",
       "    .dataframe tbody tr th:only-of-type {\n",
       "        vertical-align: middle;\n",
       "    }\n",
       "\n",
       "    .dataframe tbody tr th {\n",
       "        vertical-align: top;\n",
       "    }\n",
       "\n",
       "    .dataframe thead th {\n",
       "        text-align: right;\n",
       "    }\n",
       "</style>\n",
       "<table border=\"1\" class=\"dataframe\">\n",
       "  <thead>\n",
       "    <tr style=\"text-align: right;\">\n",
       "      <th></th>\n",
       "      <th>W</th>\n",
       "      <th>pval</th>\n",
       "      <th>normal</th>\n",
       "    </tr>\n",
       "  </thead>\n",
       "  <tbody>\n",
       "    <tr>\n",
       "      <th>rating</th>\n",
       "      <td>0.98944</td>\n",
       "      <td>0.947812</td>\n",
       "      <td>True</td>\n",
       "    </tr>\n",
       "  </tbody>\n",
       "</table>\n",
       "</div>"
      ],
      "text/plain": [
       "              W      pval  normal\n",
       "rating  0.98944  0.947812    True"
      ]
     },
     "metadata": {},
     "output_type": "display_data"
    },
    {
     "name": "stdout",
     "output_type": "stream",
     "text": [
      "Condition: FROZEN\n"
     ]
    },
    {
     "data": {
      "text/html": [
       "<div>\n",
       "<style scoped>\n",
       "    .dataframe tbody tr th:only-of-type {\n",
       "        vertical-align: middle;\n",
       "    }\n",
       "\n",
       "    .dataframe tbody tr th {\n",
       "        vertical-align: top;\n",
       "    }\n",
       "\n",
       "    .dataframe thead th {\n",
       "        text-align: right;\n",
       "    }\n",
       "</style>\n",
       "<table border=\"1\" class=\"dataframe\">\n",
       "  <thead>\n",
       "    <tr style=\"text-align: right;\">\n",
       "      <th></th>\n",
       "      <th>W</th>\n",
       "      <th>pval</th>\n",
       "      <th>normal</th>\n",
       "    </tr>\n",
       "  </thead>\n",
       "  <tbody>\n",
       "    <tr>\n",
       "      <th>rating</th>\n",
       "      <td>0.973906</td>\n",
       "      <td>0.383736</td>\n",
       "      <td>True</td>\n",
       "    </tr>\n",
       "  </tbody>\n",
       "</table>\n",
       "</div>"
      ],
      "text/plain": [
       "               W      pval  normal\n",
       "rating  0.973906  0.383736    True"
      ]
     },
     "metadata": {},
     "output_type": "display_data"
    },
    {
     "name": "stdout",
     "output_type": "stream",
     "text": [
      "Condition: PAM\n"
     ]
    },
    {
     "data": {
      "text/html": [
       "<div>\n",
       "<style scoped>\n",
       "    .dataframe tbody tr th:only-of-type {\n",
       "        vertical-align: middle;\n",
       "    }\n",
       "\n",
       "    .dataframe tbody tr th {\n",
       "        vertical-align: top;\n",
       "    }\n",
       "\n",
       "    .dataframe thead th {\n",
       "        text-align: right;\n",
       "    }\n",
       "</style>\n",
       "<table border=\"1\" class=\"dataframe\">\n",
       "  <thead>\n",
       "    <tr style=\"text-align: right;\">\n",
       "      <th></th>\n",
       "      <th>W</th>\n",
       "      <th>pval</th>\n",
       "      <th>normal</th>\n",
       "    </tr>\n",
       "  </thead>\n",
       "  <tbody>\n",
       "    <tr>\n",
       "      <th>rating</th>\n",
       "      <td>0.971008</td>\n",
       "      <td>0.301811</td>\n",
       "      <td>True</td>\n",
       "    </tr>\n",
       "  </tbody>\n",
       "</table>\n",
       "</div>"
      ],
      "text/plain": [
       "               W      pval  normal\n",
       "rating  0.971008  0.301811    True"
      ]
     },
     "metadata": {},
     "output_type": "display_data"
    },
    {
     "name": "stdout",
     "output_type": "stream",
     "text": [
      "Condition: RAG\n"
     ]
    },
    {
     "data": {
      "text/html": [
       "<div>\n",
       "<style scoped>\n",
       "    .dataframe tbody tr th:only-of-type {\n",
       "        vertical-align: middle;\n",
       "    }\n",
       "\n",
       "    .dataframe tbody tr th {\n",
       "        vertical-align: top;\n",
       "    }\n",
       "\n",
       "    .dataframe thead th {\n",
       "        text-align: right;\n",
       "    }\n",
       "</style>\n",
       "<table border=\"1\" class=\"dataframe\">\n",
       "  <thead>\n",
       "    <tr style=\"text-align: right;\">\n",
       "      <th></th>\n",
       "      <th>W</th>\n",
       "      <th>pval</th>\n",
       "      <th>normal</th>\n",
       "    </tr>\n",
       "  </thead>\n",
       "  <tbody>\n",
       "    <tr>\n",
       "      <th>rating</th>\n",
       "      <td>0.980547</td>\n",
       "      <td>0.628389</td>\n",
       "      <td>True</td>\n",
       "    </tr>\n",
       "  </tbody>\n",
       "</table>\n",
       "</div>"
      ],
      "text/plain": [
       "               W      pval  normal\n",
       "rating  0.980547  0.628389    True"
      ]
     },
     "metadata": {},
     "output_type": "display_data"
    },
    {
     "name": "stdout",
     "output_type": "stream",
     "text": [
      "Condition: RAG_RAF\n"
     ]
    },
    {
     "data": {
      "text/html": [
       "<div>\n",
       "<style scoped>\n",
       "    .dataframe tbody tr th:only-of-type {\n",
       "        vertical-align: middle;\n",
       "    }\n",
       "\n",
       "    .dataframe tbody tr th {\n",
       "        vertical-align: top;\n",
       "    }\n",
       "\n",
       "    .dataframe thead th {\n",
       "        text-align: right;\n",
       "    }\n",
       "</style>\n",
       "<table border=\"1\" class=\"dataframe\">\n",
       "  <thead>\n",
       "    <tr style=\"text-align: right;\">\n",
       "      <th></th>\n",
       "      <th>W</th>\n",
       "      <th>pval</th>\n",
       "      <th>normal</th>\n",
       "    </tr>\n",
       "  </thead>\n",
       "  <tbody>\n",
       "    <tr>\n",
       "      <th>rating</th>\n",
       "      <td>0.975532</td>\n",
       "      <td>0.436773</td>\n",
       "      <td>True</td>\n",
       "    </tr>\n",
       "  </tbody>\n",
       "</table>\n",
       "</div>"
      ],
      "text/plain": [
       "               W      pval  normal\n",
       "rating  0.975532  0.436773    True"
      ]
     },
     "metadata": {},
     "output_type": "display_data"
    },
    {
     "name": "stdout",
     "output_type": "stream",
     "text": [
      "Condition: SHUFFLE\n"
     ]
    },
    {
     "data": {
      "text/html": [
       "<div>\n",
       "<style scoped>\n",
       "    .dataframe tbody tr th:only-of-type {\n",
       "        vertical-align: middle;\n",
       "    }\n",
       "\n",
       "    .dataframe tbody tr th {\n",
       "        vertical-align: top;\n",
       "    }\n",
       "\n",
       "    .dataframe thead th {\n",
       "        text-align: right;\n",
       "    }\n",
       "</style>\n",
       "<table border=\"1\" class=\"dataframe\">\n",
       "  <thead>\n",
       "    <tr style=\"text-align: right;\">\n",
       "      <th></th>\n",
       "      <th>W</th>\n",
       "      <th>pval</th>\n",
       "      <th>normal</th>\n",
       "    </tr>\n",
       "  </thead>\n",
       "  <tbody>\n",
       "    <tr>\n",
       "      <th>rating</th>\n",
       "      <td>0.971606</td>\n",
       "      <td>0.317404</td>\n",
       "      <td>True</td>\n",
       "    </tr>\n",
       "  </tbody>\n",
       "</table>\n",
       "</div>"
      ],
      "text/plain": [
       "               W      pval  normal\n",
       "rating  0.971606  0.317404    True"
      ]
     },
     "metadata": {},
     "output_type": "display_data"
    },
    {
     "name": "stdout",
     "output_type": "stream",
     "text": [
      "Condition: SHUFFLE_RAF\n"
     ]
    },
    {
     "data": {
      "text/html": [
       "<div>\n",
       "<style scoped>\n",
       "    .dataframe tbody tr th:only-of-type {\n",
       "        vertical-align: middle;\n",
       "    }\n",
       "\n",
       "    .dataframe tbody tr th {\n",
       "        vertical-align: top;\n",
       "    }\n",
       "\n",
       "    .dataframe thead th {\n",
       "        text-align: right;\n",
       "    }\n",
       "</style>\n",
       "<table border=\"1\" class=\"dataframe\">\n",
       "  <thead>\n",
       "    <tr style=\"text-align: right;\">\n",
       "      <th></th>\n",
       "      <th>W</th>\n",
       "      <th>pval</th>\n",
       "      <th>normal</th>\n",
       "    </tr>\n",
       "  </thead>\n",
       "  <tbody>\n",
       "    <tr>\n",
       "      <th>rating</th>\n",
       "      <td>0.973068</td>\n",
       "      <td>0.358385</td>\n",
       "      <td>True</td>\n",
       "    </tr>\n",
       "  </tbody>\n",
       "</table>\n",
       "</div>"
      ],
      "text/plain": [
       "               W      pval  normal\n",
       "rating  0.973068  0.358385    True"
      ]
     },
     "metadata": {},
     "output_type": "display_data"
    },
    {
     "name": "stdout",
     "output_type": "stream",
     "text": [
      "Condition: SIMPLE\n"
     ]
    },
    {
     "data": {
      "text/html": [
       "<div>\n",
       "<style scoped>\n",
       "    .dataframe tbody tr th:only-of-type {\n",
       "        vertical-align: middle;\n",
       "    }\n",
       "\n",
       "    .dataframe tbody tr th {\n",
       "        vertical-align: top;\n",
       "    }\n",
       "\n",
       "    .dataframe thead th {\n",
       "        text-align: right;\n",
       "    }\n",
       "</style>\n",
       "<table border=\"1\" class=\"dataframe\">\n",
       "  <thead>\n",
       "    <tr style=\"text-align: right;\">\n",
       "      <th></th>\n",
       "      <th>W</th>\n",
       "      <th>pval</th>\n",
       "      <th>normal</th>\n",
       "    </tr>\n",
       "  </thead>\n",
       "  <tbody>\n",
       "    <tr>\n",
       "      <th>rating</th>\n",
       "      <td>0.979509</td>\n",
       "      <td>0.586012</td>\n",
       "      <td>True</td>\n",
       "    </tr>\n",
       "  </tbody>\n",
       "</table>\n",
       "</div>"
      ],
      "text/plain": [
       "               W      pval  normal\n",
       "rating  0.979509  0.586012    True"
      ]
     },
     "metadata": {},
     "output_type": "display_data"
    },
    {
     "name": "stdout",
     "output_type": "stream",
     "text": [
      "Condition: SIMPLE_RAF\n"
     ]
    },
    {
     "data": {
      "text/html": [
       "<div>\n",
       "<style scoped>\n",
       "    .dataframe tbody tr th:only-of-type {\n",
       "        vertical-align: middle;\n",
       "    }\n",
       "\n",
       "    .dataframe tbody tr th {\n",
       "        vertical-align: top;\n",
       "    }\n",
       "\n",
       "    .dataframe thead th {\n",
       "        text-align: right;\n",
       "    }\n",
       "</style>\n",
       "<table border=\"1\" class=\"dataframe\">\n",
       "  <thead>\n",
       "    <tr style=\"text-align: right;\">\n",
       "      <th></th>\n",
       "      <th>W</th>\n",
       "      <th>pval</th>\n",
       "      <th>normal</th>\n",
       "    </tr>\n",
       "  </thead>\n",
       "  <tbody>\n",
       "    <tr>\n",
       "      <th>rating</th>\n",
       "      <td>0.972347</td>\n",
       "      <td>0.337662</td>\n",
       "      <td>True</td>\n",
       "    </tr>\n",
       "  </tbody>\n",
       "</table>\n",
       "</div>"
      ],
      "text/plain": [
       "               W      pval  normal\n",
       "rating  0.972347  0.337662    True"
      ]
     },
     "metadata": {},
     "output_type": "display_data"
    },
    {
     "data": {
      "text/html": [
       "<div>\n",
       "<style scoped>\n",
       "    .dataframe tbody tr th:only-of-type {\n",
       "        vertical-align: middle;\n",
       "    }\n",
       "\n",
       "    .dataframe tbody tr th {\n",
       "        vertical-align: top;\n",
       "    }\n",
       "\n",
       "    .dataframe thead th {\n",
       "        text-align: right;\n",
       "    }\n",
       "</style>\n",
       "<table border=\"1\" class=\"dataframe\">\n",
       "  <thead>\n",
       "    <tr style=\"text-align: right;\">\n",
       "      <th></th>\n",
       "      <th>Source</th>\n",
       "      <th>ddof1</th>\n",
       "      <th>ddof2</th>\n",
       "      <th>F</th>\n",
       "      <th>p-unc</th>\n",
       "      <th>p-GG-corr</th>\n",
       "      <th>np2</th>\n",
       "      <th>eps</th>\n",
       "      <th>sphericity</th>\n",
       "      <th>W-spher</th>\n",
       "      <th>p-spher</th>\n",
       "    </tr>\n",
       "  </thead>\n",
       "  <tbody>\n",
       "    <tr>\n",
       "      <th>0</th>\n",
       "      <td>condition</td>\n",
       "      <td>10</td>\n",
       "      <td>450</td>\n",
       "      <td>10.902582</td>\n",
       "      <td>1.099053e-16</td>\n",
       "      <td>0.000028</td>\n",
       "      <td>0.195028</td>\n",
       "      <td>0.220987</td>\n",
       "      <td>False</td>\n",
       "      <td>0.00004</td>\n",
       "      <td>1.645004e-57</td>\n",
       "    </tr>\n",
       "  </tbody>\n",
       "</table>\n",
       "</div>"
      ],
      "text/plain": [
       "      Source  ddof1  ddof2          F         p-unc  p-GG-corr       np2  \\\n",
       "0  condition     10    450  10.902582  1.099053e-16   0.000028  0.195028   \n",
       "\n",
       "        eps  sphericity  W-spher       p-spher  \n",
       "0  0.220987       False  0.00004  1.645004e-57  "
      ]
     },
     "metadata": {},
     "output_type": "display_data"
    },
    {
     "data": {
      "text/html": [
       "<div>\n",
       "<style scoped>\n",
       "    .dataframe tbody tr th:only-of-type {\n",
       "        vertical-align: middle;\n",
       "    }\n",
       "\n",
       "    .dataframe tbody tr th {\n",
       "        vertical-align: top;\n",
       "    }\n",
       "\n",
       "    .dataframe thead th {\n",
       "        text-align: right;\n",
       "    }\n",
       "</style>\n",
       "<table border=\"1\" class=\"dataframe\">\n",
       "  <thead>\n",
       "    <tr style=\"text-align: right;\">\n",
       "      <th></th>\n",
       "      <th>Source</th>\n",
       "      <th>W</th>\n",
       "      <th>ddof1</th>\n",
       "      <th>ddof2</th>\n",
       "      <th>F</th>\n",
       "      <th>p-unc</th>\n",
       "    </tr>\n",
       "  </thead>\n",
       "  <tbody>\n",
       "    <tr>\n",
       "      <th>Friedman</th>\n",
       "      <td>condition</td>\n",
       "      <td>0.162318</td>\n",
       "      <td>9.956522</td>\n",
       "      <td>448.043478</td>\n",
       "      <td>8.719696</td>\n",
       "      <td>4.680287e-13</td>\n",
       "    </tr>\n",
       "  </tbody>\n",
       "</table>\n",
       "</div>"
      ],
      "text/plain": [
       "             Source         W     ddof1       ddof2         F         p-unc\n",
       "Friedman  condition  0.162318  9.956522  448.043478  8.719696  4.680287e-13"
      ]
     },
     "metadata": {},
     "output_type": "display_data"
    },
    {
     "data": {
      "text/html": [
       "<div>\n",
       "<style scoped>\n",
       "    .dataframe tbody tr th:only-of-type {\n",
       "        vertical-align: middle;\n",
       "    }\n",
       "\n",
       "    .dataframe tbody tr th {\n",
       "        vertical-align: top;\n",
       "    }\n",
       "\n",
       "    .dataframe thead th {\n",
       "        text-align: right;\n",
       "    }\n",
       "</style>\n",
       "<table border=\"1\" class=\"dataframe\">\n",
       "  <thead>\n",
       "    <tr style=\"text-align: right;\">\n",
       "      <th></th>\n",
       "      <th>Contrast</th>\n",
       "      <th>A</th>\n",
       "      <th>B</th>\n",
       "      <th>Paired</th>\n",
       "      <th>Parametric</th>\n",
       "      <th>T</th>\n",
       "      <th>dof</th>\n",
       "      <th>Tail</th>\n",
       "      <th>p-unc</th>\n",
       "      <th>p-corr</th>\n",
       "      <th>p-adjust</th>\n",
       "      <th>BF10</th>\n",
       "      <th>hedges</th>\n",
       "    </tr>\n",
       "  </thead>\n",
       "  <tbody>\n",
       "    <tr>\n",
       "      <th>0</th>\n",
       "      <td>condition</td>\n",
       "      <td>BASIC</td>\n",
       "      <td>CONTROL</td>\n",
       "      <td>True</td>\n",
       "      <td>True</td>\n",
       "      <td>4.702836</td>\n",
       "      <td>45.0</td>\n",
       "      <td>two-sided</td>\n",
       "      <td>0.000025</td>\n",
       "      <td>0.001351</td>\n",
       "      <td>bonf</td>\n",
       "      <td>850.493</td>\n",
       "      <td>1.130040</td>\n",
       "    </tr>\n",
       "    <tr>\n",
       "      <th>3</th>\n",
       "      <td>condition</td>\n",
       "      <td>BASIC</td>\n",
       "      <td>PAM</td>\n",
       "      <td>True</td>\n",
       "      <td>True</td>\n",
       "      <td>4.728441</td>\n",
       "      <td>45.0</td>\n",
       "      <td>two-sided</td>\n",
       "      <td>0.000023</td>\n",
       "      <td>0.001242</td>\n",
       "      <td>bonf</td>\n",
       "      <td>919.003</td>\n",
       "      <td>1.189960</td>\n",
       "    </tr>\n",
       "    <tr>\n",
       "      <th>5</th>\n",
       "      <td>condition</td>\n",
       "      <td>BASIC</td>\n",
       "      <td>RAG_RAF</td>\n",
       "      <td>True</td>\n",
       "      <td>True</td>\n",
       "      <td>4.388283</td>\n",
       "      <td>45.0</td>\n",
       "      <td>two-sided</td>\n",
       "      <td>0.000068</td>\n",
       "      <td>0.003754</td>\n",
       "      <td>bonf</td>\n",
       "      <td>332.647</td>\n",
       "      <td>0.699784</td>\n",
       "    </tr>\n",
       "    <tr>\n",
       "      <th>6</th>\n",
       "      <td>condition</td>\n",
       "      <td>BASIC</td>\n",
       "      <td>SHUFFLE</td>\n",
       "      <td>True</td>\n",
       "      <td>True</td>\n",
       "      <td>3.604177</td>\n",
       "      <td>45.0</td>\n",
       "      <td>two-sided</td>\n",
       "      <td>0.000780</td>\n",
       "      <td>0.042882</td>\n",
       "      <td>bonf</td>\n",
       "      <td>36.545</td>\n",
       "      <td>0.475276</td>\n",
       "    </tr>\n",
       "    <tr>\n",
       "      <th>7</th>\n",
       "      <td>condition</td>\n",
       "      <td>BASIC</td>\n",
       "      <td>SHUFFLE_RAF</td>\n",
       "      <td>True</td>\n",
       "      <td>True</td>\n",
       "      <td>5.365670</td>\n",
       "      <td>45.0</td>\n",
       "      <td>two-sided</td>\n",
       "      <td>0.000003</td>\n",
       "      <td>0.000148</td>\n",
       "      <td>bonf</td>\n",
       "      <td>6586.03</td>\n",
       "      <td>0.955670</td>\n",
       "    </tr>\n",
       "    <tr>\n",
       "      <th>10</th>\n",
       "      <td>condition</td>\n",
       "      <td>CONTROL</td>\n",
       "      <td>FM_ONLY</td>\n",
       "      <td>True</td>\n",
       "      <td>True</td>\n",
       "      <td>-3.679146</td>\n",
       "      <td>45.0</td>\n",
       "      <td>two-sided</td>\n",
       "      <td>0.000623</td>\n",
       "      <td>0.034259</td>\n",
       "      <td>bonf</td>\n",
       "      <td>44.701</td>\n",
       "      <td>-0.464905</td>\n",
       "    </tr>\n",
       "    <tr>\n",
       "      <th>11</th>\n",
       "      <td>condition</td>\n",
       "      <td>CONTROL</td>\n",
       "      <td>FROZEN</td>\n",
       "      <td>True</td>\n",
       "      <td>True</td>\n",
       "      <td>-3.768258</td>\n",
       "      <td>45.0</td>\n",
       "      <td>two-sided</td>\n",
       "      <td>0.000476</td>\n",
       "      <td>0.026168</td>\n",
       "      <td>bonf</td>\n",
       "      <td>56.963</td>\n",
       "      <td>-0.967982</td>\n",
       "    </tr>\n",
       "    <tr>\n",
       "      <th>13</th>\n",
       "      <td>condition</td>\n",
       "      <td>CONTROL</td>\n",
       "      <td>RAG</td>\n",
       "      <td>True</td>\n",
       "      <td>True</td>\n",
       "      <td>-4.089356</td>\n",
       "      <td>45.0</td>\n",
       "      <td>two-sided</td>\n",
       "      <td>0.000176</td>\n",
       "      <td>0.009704</td>\n",
       "      <td>bonf</td>\n",
       "      <td>139.831</td>\n",
       "      <td>-0.919501</td>\n",
       "    </tr>\n",
       "    <tr>\n",
       "      <th>17</th>\n",
       "      <td>condition</td>\n",
       "      <td>CONTROL</td>\n",
       "      <td>SIMPLE</td>\n",
       "      <td>True</td>\n",
       "      <td>True</td>\n",
       "      <td>-4.238156</td>\n",
       "      <td>45.0</td>\n",
       "      <td>two-sided</td>\n",
       "      <td>0.000110</td>\n",
       "      <td>0.006066</td>\n",
       "      <td>bonf</td>\n",
       "      <td>214.53</td>\n",
       "      <td>-0.971708</td>\n",
       "    </tr>\n",
       "    <tr>\n",
       "      <th>20</th>\n",
       "      <td>condition</td>\n",
       "      <td>FM_ONLY</td>\n",
       "      <td>PAM</td>\n",
       "      <td>True</td>\n",
       "      <td>True</td>\n",
       "      <td>3.554408</td>\n",
       "      <td>45.0</td>\n",
       "      <td>two-sided</td>\n",
       "      <td>0.000904</td>\n",
       "      <td>0.049717</td>\n",
       "      <td>bonf</td>\n",
       "      <td>32.011</td>\n",
       "      <td>0.493552</td>\n",
       "    </tr>\n",
       "    <tr>\n",
       "      <th>27</th>\n",
       "      <td>condition</td>\n",
       "      <td>FROZEN</td>\n",
       "      <td>PAM</td>\n",
       "      <td>True</td>\n",
       "      <td>True</td>\n",
       "      <td>3.841646</td>\n",
       "      <td>45.0</td>\n",
       "      <td>two-sided</td>\n",
       "      <td>0.000380</td>\n",
       "      <td>0.020919</td>\n",
       "      <td>bonf</td>\n",
       "      <td>69.711</td>\n",
       "      <td>1.023641</td>\n",
       "    </tr>\n",
       "    <tr>\n",
       "      <th>31</th>\n",
       "      <td>condition</td>\n",
       "      <td>FROZEN</td>\n",
       "      <td>SHUFFLE_RAF</td>\n",
       "      <td>True</td>\n",
       "      <td>True</td>\n",
       "      <td>5.251353</td>\n",
       "      <td>45.0</td>\n",
       "      <td>two-sided</td>\n",
       "      <td>0.000004</td>\n",
       "      <td>0.000218</td>\n",
       "      <td>bonf</td>\n",
       "      <td>4602.27</td>\n",
       "      <td>0.755507</td>\n",
       "    </tr>\n",
       "    <tr>\n",
       "      <th>34</th>\n",
       "      <td>condition</td>\n",
       "      <td>PAM</td>\n",
       "      <td>RAG</td>\n",
       "      <td>True</td>\n",
       "      <td>True</td>\n",
       "      <td>-4.181144</td>\n",
       "      <td>45.0</td>\n",
       "      <td>two-sided</td>\n",
       "      <td>0.000132</td>\n",
       "      <td>0.007268</td>\n",
       "      <td>bonf</td>\n",
       "      <td>181.933</td>\n",
       "      <td>-0.979662</td>\n",
       "    </tr>\n",
       "    <tr>\n",
       "      <th>36</th>\n",
       "      <td>condition</td>\n",
       "      <td>PAM</td>\n",
       "      <td>SHUFFLE</td>\n",
       "      <td>True</td>\n",
       "      <td>True</td>\n",
       "      <td>-3.629639</td>\n",
       "      <td>45.0</td>\n",
       "      <td>two-sided</td>\n",
       "      <td>0.000723</td>\n",
       "      <td>0.039743</td>\n",
       "      <td>bonf</td>\n",
       "      <td>39.123</td>\n",
       "      <td>-0.892393</td>\n",
       "    </tr>\n",
       "    <tr>\n",
       "      <th>38</th>\n",
       "      <td>condition</td>\n",
       "      <td>PAM</td>\n",
       "      <td>SIMPLE</td>\n",
       "      <td>True</td>\n",
       "      <td>True</td>\n",
       "      <td>-4.269543</td>\n",
       "      <td>45.0</td>\n",
       "      <td>two-sided</td>\n",
       "      <td>0.000100</td>\n",
       "      <td>0.005490</td>\n",
       "      <td>bonf</td>\n",
       "      <td>235.006</td>\n",
       "      <td>-1.027998</td>\n",
       "    </tr>\n",
       "    <tr>\n",
       "      <th>42</th>\n",
       "      <td>condition</td>\n",
       "      <td>RAG</td>\n",
       "      <td>SHUFFLE_RAF</td>\n",
       "      <td>True</td>\n",
       "      <td>True</td>\n",
       "      <td>3.933714</td>\n",
       "      <td>45.0</td>\n",
       "      <td>two-sided</td>\n",
       "      <td>0.000287</td>\n",
       "      <td>0.015758</td>\n",
       "      <td>bonf</td>\n",
       "      <td>90.067</td>\n",
       "      <td>0.691985</td>\n",
       "    </tr>\n",
       "    <tr>\n",
       "      <th>49</th>\n",
       "      <td>condition</td>\n",
       "      <td>SHUFFLE</td>\n",
       "      <td>SHUFFLE_RAF</td>\n",
       "      <td>True</td>\n",
       "      <td>True</td>\n",
       "      <td>4.641363</td>\n",
       "      <td>45.0</td>\n",
       "      <td>two-sided</td>\n",
       "      <td>0.000030</td>\n",
       "      <td>0.001653</td>\n",
       "      <td>bonf</td>\n",
       "      <td>706.575</td>\n",
       "      <td>0.584313</td>\n",
       "    </tr>\n",
       "    <tr>\n",
       "      <th>52</th>\n",
       "      <td>condition</td>\n",
       "      <td>SHUFFLE_RAF</td>\n",
       "      <td>SIMPLE</td>\n",
       "      <td>True</td>\n",
       "      <td>True</td>\n",
       "      <td>-4.606373</td>\n",
       "      <td>45.0</td>\n",
       "      <td>two-sided</td>\n",
       "      <td>0.000034</td>\n",
       "      <td>0.001853</td>\n",
       "      <td>bonf</td>\n",
       "      <td>636.07</td>\n",
       "      <td>-0.760008</td>\n",
       "    </tr>\n",
       "    <tr>\n",
       "      <th>53</th>\n",
       "      <td>condition</td>\n",
       "      <td>SHUFFLE_RAF</td>\n",
       "      <td>SIMPLE_RAF</td>\n",
       "      <td>True</td>\n",
       "      <td>True</td>\n",
       "      <td>-5.350149</td>\n",
       "      <td>45.0</td>\n",
       "      <td>two-sided</td>\n",
       "      <td>0.000003</td>\n",
       "      <td>0.000156</td>\n",
       "      <td>bonf</td>\n",
       "      <td>6272.521</td>\n",
       "      <td>-0.598828</td>\n",
       "    </tr>\n",
       "  </tbody>\n",
       "</table>\n",
       "</div>"
      ],
      "text/plain": [
       "     Contrast            A            B  Paired  Parametric         T   dof  \\\n",
       "0   condition        BASIC      CONTROL    True        True  4.702836  45.0   \n",
       "3   condition        BASIC          PAM    True        True  4.728441  45.0   \n",
       "5   condition        BASIC      RAG_RAF    True        True  4.388283  45.0   \n",
       "6   condition        BASIC      SHUFFLE    True        True  3.604177  45.0   \n",
       "7   condition        BASIC  SHUFFLE_RAF    True        True  5.365670  45.0   \n",
       "10  condition      CONTROL      FM_ONLY    True        True -3.679146  45.0   \n",
       "11  condition      CONTROL       FROZEN    True        True -3.768258  45.0   \n",
       "13  condition      CONTROL          RAG    True        True -4.089356  45.0   \n",
       "17  condition      CONTROL       SIMPLE    True        True -4.238156  45.0   \n",
       "20  condition      FM_ONLY          PAM    True        True  3.554408  45.0   \n",
       "27  condition       FROZEN          PAM    True        True  3.841646  45.0   \n",
       "31  condition       FROZEN  SHUFFLE_RAF    True        True  5.251353  45.0   \n",
       "34  condition          PAM          RAG    True        True -4.181144  45.0   \n",
       "36  condition          PAM      SHUFFLE    True        True -3.629639  45.0   \n",
       "38  condition          PAM       SIMPLE    True        True -4.269543  45.0   \n",
       "42  condition          RAG  SHUFFLE_RAF    True        True  3.933714  45.0   \n",
       "49  condition      SHUFFLE  SHUFFLE_RAF    True        True  4.641363  45.0   \n",
       "52  condition  SHUFFLE_RAF       SIMPLE    True        True -4.606373  45.0   \n",
       "53  condition  SHUFFLE_RAF   SIMPLE_RAF    True        True -5.350149  45.0   \n",
       "\n",
       "         Tail     p-unc    p-corr p-adjust      BF10    hedges  \n",
       "0   two-sided  0.000025  0.001351     bonf   850.493  1.130040  \n",
       "3   two-sided  0.000023  0.001242     bonf   919.003  1.189960  \n",
       "5   two-sided  0.000068  0.003754     bonf   332.647  0.699784  \n",
       "6   two-sided  0.000780  0.042882     bonf    36.545  0.475276  \n",
       "7   two-sided  0.000003  0.000148     bonf   6586.03  0.955670  \n",
       "10  two-sided  0.000623  0.034259     bonf    44.701 -0.464905  \n",
       "11  two-sided  0.000476  0.026168     bonf    56.963 -0.967982  \n",
       "13  two-sided  0.000176  0.009704     bonf   139.831 -0.919501  \n",
       "17  two-sided  0.000110  0.006066     bonf    214.53 -0.971708  \n",
       "20  two-sided  0.000904  0.049717     bonf    32.011  0.493552  \n",
       "27  two-sided  0.000380  0.020919     bonf    69.711  1.023641  \n",
       "31  two-sided  0.000004  0.000218     bonf   4602.27  0.755507  \n",
       "34  two-sided  0.000132  0.007268     bonf   181.933 -0.979662  \n",
       "36  two-sided  0.000723  0.039743     bonf    39.123 -0.892393  \n",
       "38  two-sided  0.000100  0.005490     bonf   235.006 -1.027998  \n",
       "42  two-sided  0.000287  0.015758     bonf    90.067  0.691985  \n",
       "49  two-sided  0.000030  0.001653     bonf   706.575  0.584313  \n",
       "52  two-sided  0.000034  0.001853     bonf    636.07 -0.760008  \n",
       "53  two-sided  0.000003  0.000156     bonf  6272.521 -0.598828  "
      ]
     },
     "metadata": {},
     "output_type": "display_data"
    },
    {
     "data": {
      "image/png": "[encoded data removed]",
      "text/plain": [
       "<Figure size 432x288 with 1 Axes>"
      ]
     },
     "metadata": {
      "needs_background": "light"
     },
     "output_type": "display_data"
    },
    {
     "data": {
      "image/png": "[encoded data removed]",
      "text/plain": [
       "<Figure size 432x288 with 1 Axes>"
      ]
     },
     "metadata": {
      "needs_background": "light"
     },
     "output_type": "display_data"
    },
    {
     "data": {
      "image/png": "[encoded data removed]",
      "text/plain": [
       "<Figure size 432x288 with 1 Axes>"
      ]
     },
     "metadata": {
      "needs_background": "light"
     },
     "output_type": "display_data"
    },
    {
     "data": {
      "image/png": "[encoded data removed]",
      "text/plain": [
       "<Figure size 432x288 with 1 Axes>"
      ]
     },
     "metadata": {
      "needs_background": "light"
     },
     "output_type": "display_data"
    },
    {
     "data": {
      "image/png": "[encoded data removed]",
      "text/plain": [
       "<Figure size 432x288 with 1 Axes>"
      ]
     },
     "metadata": {
      "needs_background": "light"
     },
     "output_type": "display_data"
    },
    {
     "data": {
      "image/png": "[encoded data removed]",
      "text/plain": [
       "<Figure size 432x288 with 1 Axes>"
      ]
     },
     "metadata": {
      "needs_background": "light"
     },
     "output_type": "display_data"
    },
    {
     "data": {
      "image/png": "[encoded data removed]",
      "text/plain": [
       "<Figure size 432x288 with 1 Axes>"
      ]
     },
     "metadata": {
      "needs_background": "light"
     },
     "output_type": "display_data"
    },
    {
     "data": {
      "image/png": "[encoded data removed]",
      "text/plain": [
       "<Figure size 432x288 with 1 Axes>"
      ]
     },
     "metadata": {
      "needs_background": "light"
     },
     "output_type": "display_data"
    },
    {
     "data": {
      "image/png": "[encoded data removed]",
      "text/plain": [
       "<Figure size 432x288 with 1 Axes>"
      ]
     },
     "metadata": {
      "needs_background": "light"
     },
     "output_type": "display_data"
    },
    {
     "data": {
      "image/png": "[encoded data removed]",
      "text/plain": [
       "<Figure size 432x288 with 1 Axes>"
      ]
     },
     "metadata": {
      "needs_background": "light"
     },
     "output_type": "display_data"
    },
    {
     "data": {
      "image/png": "[encoded data removed]",
      "text/plain": [
       "<Figure size 432x288 with 1 Axes>"
      ]
     },
     "metadata": {
      "needs_background": "light"
     },
     "output_type": "display_data"
    }
   ],
   "source": [
    "dpi=300\n",
    "\n",
    "study_type = 1\n",
    "df = load('./prolific/*.csv')\n",
    "df = isolate_study(df, study_type)\n",
    "df = extract_trials(df)\n",
    "df = normalize_slider(df)\n",
    "df = extract_subject(df)\n",
    "df = extract_condition(df)\n",
    "df = min_max_norm(df)\n",
    "df = anova_prep(df)\n",
    "df = df.reset_index(drop=True)\n",
    "\n",
    "# ANOVA with repeated measures notes.\n",
    "\n",
    "for condition in df['condition'].unique():\n",
    "    print(f\"Condition: {condition}\")\n",
    "    display(pg.normality(df[df['condition']==condition]['rating']))\n",
    "    sm.qqplot(df[df['condition']==condition]['rating'], fit=True, line=\"45\")\n",
    "    plt.savefig(f\"./figs/qq_studytype_{study_type}_{condition}.png\", dpi=dpi)\n",
    "\n",
    "display(df.rm_anova(dv='rating', within='condition', subject='subjectNo', correction=True))\n",
    "display(pg.friedman(data=df, dv='rating', within='condition', subject='subjectNo', method='f'))\n",
    "\n",
    "tmp = df.pairwise_ttests(dv='rating', within='condition', subject='subjectNo', padjust='bonf')\n",
    "display(tmp[tmp['p-corr'] <= 0.05])\n",
    "# display(tmp)"
   ]
  },
  {
   "cell_type": "markdown",
   "metadata": {},
   "source": [
    "### Explorations"
   ]
  },
  {
   "cell_type": "code",
   "execution_count": 269,
   "metadata": {},
   "outputs": [
    {
     "name": "stdout",
     "output_type": "stream",
     "text": [
      "Total N = 51\n",
      "N = 40\n",
      "8\n"
     ]
    }
   ],
   "source": [
    "study_type = 0\n",
    "df = load('./prolific/*.csv')\n",
    "df = isolate_study(df, study_type)\n",
    "df = extract_trials(df)\n",
    "df = normalize_slider(df)\n",
    "df = extract_subject(df)\n",
    "df = min_max_norm(df)\n",
    "df = extract_condition(df)\n",
    "\n",
    "print(f\"Total N = {get_num_subjects(df)}\")\n",
    "filter_by_control(df, 0.25)\n",
    "# max_time_elapsed(df).mean()\n",
    "\n",
    "\n",
    "# df = extract_condition(df)\n",
    "# df = min_max_norm(df)\n",
    "# df = anova_prep(df)\n",
    "# df = df.reset_index(drop=True)\n",
    "# df = average_condition_rating_within_subject(df)"
   ]
  },
  {
   "cell_type": "code",
   "execution_count": 252,
   "metadata": {},
   "outputs": [
    {
     "data": {
      "text/plain": [
       "22.2"
      ]
     },
     "execution_count": 252,
     "metadata": {},
     "output_type": "execute_result"
    }
   ],
   "source": [
    ".37*60"
   ]
  },
  {
   "cell_type": "code",
   "execution_count": 188,
   "metadata": {},
   "outputs": [],
   "source": [
    "tmp = df.groupby(['subjectNo', 'condition'])['response'].mean()\n",
    "tmp = tmp.unstack()\n",
    "\n"
   ]
  },
  {
   "cell_type": "code",
   "execution_count": 189,
   "metadata": {},
   "outputs": [
    {
     "data": {
      "text/plain": [
       "Index(['BASIC', 'CONTROL', 'FM ONLY', 'FROZEN', 'PAM', 'RAG', 'RAG RAF',\n",
       "       'SHUFFLE', 'SHUFFLE RAF', 'SIMPLE', 'SIMPLE RAF'],\n",
       "      dtype='object')"
      ]
     },
     "execution_count": 189,
     "metadata": {},
     "output_type": "execute_result"
    }
   ],
   "source": [
    "tmp.columns"
   ]
  },
  {
   "cell_type": "code",
   "execution_count": null,
   "metadata": {},
   "outputs": [],
   "source": []
  }
 ],
 "metadata": {
  "kernelspec": {
   "display_name": "Python 3",
   "language": "python",
   "name": "python3"
  },
  "language_info": {
   "codemirror_mode": {
    "name": "ipython",
    "version": 3
   },
   "file_extension": ".py",
   "mimetype": "text/x-python",
   "name": "python",
   "nbconvert_exporter": "python",
   "pygments_lexer": "ipython3",
   "version": "3.7.3"
  }
 },
 "nbformat": 4,
 "nbformat_minor": 4
}

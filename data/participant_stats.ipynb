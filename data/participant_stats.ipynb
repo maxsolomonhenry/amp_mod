{
 "cells": [
  {
   "cell_type": "code",
   "execution_count": 82,
   "metadata": {},
   "outputs": [],
   "source": [
    "from glob import glob\n",
    "import os\n",
    "import pandas as pd"
   ]
  },
  {
   "cell_type": "code",
   "execution_count": 83,
   "metadata": {},
   "outputs": [],
   "source": [
    "# Import from adjacent scripts.\n",
    "import sys\n",
    "import os\n",
    "sys.path.append('..')\n",
    "sys.path.append('../src')\n",
    "sys.path.append('../audio')\n",
    "\n",
    "import src.data_util as du\n",
    "from src.defaults import DATA_PATH, MAX_INTEGER"
   ]
  },
  {
   "cell_type": "code",
   "execution_count": 84,
   "metadata": {},
   "outputs": [],
   "source": [
    "files = glob('./participant_demographic_data/*.csv')\n",
    "\n",
    "df = pd.DataFrame()\n",
    "\n",
    "for i, file in enumerate(files):\n",
    "    tmp = pd.read_csv(file)\n",
    "    tmp['phase'] = i\n",
    "    df = df.append(tmp)"
   ]
  },
  {
   "cell_type": "code",
   "execution_count": 103,
   "metadata": {},
   "outputs": [
    {
     "data": {
      "text/plain": [
       "array(['DATA EXPIRED', nan, 'English'], dtype=object)"
      ]
     },
     "execution_count": 103,
     "metadata": {},
     "output_type": "execute_result"
    }
   ],
   "source": [
    "df.query('phase == 1 and status == \"APPROVED\"')['First Language'].unique()"
   ]
  },
  {
   "cell_type": "code",
   "execution_count": 108,
   "metadata": {},
   "outputs": [
    {
     "data": {
      "text/plain": [
       "99.44444444444444"
      ]
     },
     "execution_count": 108,
     "metadata": {},
     "output_type": "execute_result"
    }
   ],
   "source": [
    "df.query('phase == 0 and status == \"APPROVED\"')['prolific_score'].mean()"
   ]
  },
  {
   "cell_type": "code",
   "execution_count": 104,
   "metadata": {},
   "outputs": [
    {
     "data": {
      "text/plain": [
       "Index(['session_id', 'participant_id', 'status', 'started_datetime',\n",
       "       'completed_date_time', 'time_taken', 'age', 'num_approvals',\n",
       "       'num_rejections', 'prolific_score', 'reviewed_at_datetime',\n",
       "       'entered_code', 'Country of Birth', 'Current Country of Residence',\n",
       "       'Employment Status', 'First Language', 'Fluent languages',\n",
       "       'Hearing difficulties', 'Nationality', 'Sex', 'Student Status', 'phase',\n",
       "       'First language'],\n",
       "      dtype='object')"
      ]
     },
     "execution_count": 104,
     "metadata": {},
     "output_type": "execute_result"
    }
   ],
   "source": []
  },
  {
   "cell_type": "code",
   "execution_count": null,
   "metadata": {},
   "outputs": [],
   "source": []
  }
 ],
 "metadata": {
  "kernelspec": {
   "display_name": "Python 3",
   "language": "python",
   "name": "python3"
  },
  "language_info": {
   "codemirror_mode": {
    "name": "ipython",
    "version": 3
   },
   "file_extension": ".py",
   "mimetype": "text/x-python",
   "name": "python",
   "nbconvert_exporter": "python",
   "pygments_lexer": "ipython3",
   "version": "3.7.3"
  }
 },
 "nbformat": 4,
 "nbformat_minor": 4
}
